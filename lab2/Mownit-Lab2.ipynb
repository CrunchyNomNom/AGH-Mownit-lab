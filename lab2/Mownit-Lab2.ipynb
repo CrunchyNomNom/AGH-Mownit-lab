{
 "cells": [
  {
   "cell_type": "markdown",
   "metadata": {},
   "source": [
    "## Mownit laboratorium 2\n",
    "### DataFrames"
   ]
  },
  {
   "cell_type": "markdown",
   "metadata": {},
   "source": [
    "- Zaawansowany pakiet do działania na tabelkach nxm danych \n",
    "- Podobne do pandas DataFrames w Pythonie albo data.frame w R\n",
    "- Specjalistyczne funkcje do statystyki\n",
    "- należy zaistalować pakiety:\n",
    "\n",
    "```julia\n",
    "Pkg.add(\"DataFrames\")\n",
    "```\n",
    "\n",
    "- DataFrame to rodzaj bazy danych in-memory\n",
    "- Składa się z kolumn, do których odwołujemy się używając symboli\n",
    "- Każda z kolumn może przechowywać inny typ (inaczej niż w dwuwymiarowych tablicach )\n",
    "- od wersji 0.11 każda z kolumn jest typu Array{T,1} gdzie T jest okreslonym typem danych (np. Float64)\n",
    "- strona pakietu: https://github.com/JuliaStats/DataFrames.jl\n",
    "- dokumentacja najnowszej wersji 0.14 : https://juliadata.github.io/DataFrames.jl/stable/index.html\n",
    "\n",
    "\n",
    "\n"
   ]
  },
  {
   "cell_type": "code",
   "execution_count": 1,
   "metadata": {},
   "outputs": [
    {
     "name": "stdout",
     "output_type": "stream",
     "text": [
      "4×3 DataFrame\n",
      "│ Row │ MojaKolumna │ Col2    │ Col3  │\n",
      "│     │ \u001b[90mInt64\u001b[39m       │ \u001b[90mFloat64\u001b[39m │ \u001b[90mBool\u001b[39m  │\n",
      "├─────┼─────────────┼─────────┼───────┤\n",
      "│ 1   │ 1           │ 4.0     │ true  │\n",
      "│ 2   │ 2           │ 3.14159 │ false │\n",
      "│ 3   │ 3           │ 1.41421 │ true  │\n",
      "│ 4   │ 4           │ 42.0    │ false │"
     ]
    }
   ],
   "source": [
    "# Tworzenie DataFrame\n",
    "using DataFrames\n",
    "df1=DataFrame()\n",
    "df1[:MojaKolumna]= 1:4\n",
    "df1[:Col2]= [4,pi,sqrt(2), 42]\n",
    "df1[:Col3]= [true,false, true, false]\n",
    "show(df1)"
   ]
  },
  {
   "cell_type": "code",
   "execution_count": 2,
   "metadata": {},
   "outputs": [
    {
     "data": {
      "text/plain": [
       "Array{Float64,1}"
      ]
     },
     "execution_count": 2,
     "metadata": {},
     "output_type": "execute_result"
    }
   ],
   "source": [
    "typeof(df1[:Col2])"
   ]
  },
  {
   "cell_type": "code",
   "execution_count": 3,
   "metadata": {},
   "outputs": [
    {
     "data": {
      "text/plain": [
       "Array{Bool,1}"
      ]
     },
     "execution_count": 3,
     "metadata": {},
     "output_type": "execute_result"
    }
   ],
   "source": [
    "typeof(df1[:Col3])"
   ]
  },
  {
   "cell_type": "code",
   "execution_count": 4,
   "metadata": {},
   "outputs": [
    {
     "data": {
      "text/html": [
       "<table class=\"data-frame\"><thead><tr><th></th><th>MojaKolumna</th><th>Col2</th><th>Col3</th></tr><tr><th></th><th>Int64</th><th>Float64</th><th>Bool</th></tr></thead><tbody><tr><th>1</th><td>1</td><td>2.0</td><td>true</td></tr><tr><th>2</th><td>2</td><td>3.14159</td><td>true</td></tr><tr><th>3</th><td>3</td><td>1.41421</td><td>false</td></tr><tr><th>4</th><td>4</td><td>3.0</td><td>true</td></tr><tr><th>5</th><td>5</td><td>4.0</td><td>false</td></tr><tr><th>6</th><td>6</td><td>2.0</td><td>true</td></tr><tr><th>7</th><td>7</td><td>3.14159</td><td>true</td></tr><tr><th>8</th><td>8</td><td>1.41421</td><td>false</td></tr><tr><th>9</th><td>9</td><td>3.0</td><td>true</td></tr><tr><th>10</th><td>10</td><td>4.0</td><td>false</td></tr></tbody></table>"
      ],
      "text/plain": [
       "10×3 DataFrame\n",
       "│ Row │ MojaKolumna │ Col2    │ Col3  │\n",
       "│     │ \u001b[90mInt64\u001b[39m       │ \u001b[90mFloat64\u001b[39m │ \u001b[90mBool\u001b[39m  │\n",
       "├─────┼─────────────┼─────────┼───────┤\n",
       "│ 1   │ 1           │ 2.0     │ true  │\n",
       "│ 2   │ 2           │ 3.14159 │ true  │\n",
       "│ 3   │ 3           │ 1.41421 │ false │\n",
       "│ 4   │ 4           │ 3.0     │ true  │\n",
       "│ 5   │ 5           │ 4.0     │ false │\n",
       "│ 6   │ 6           │ 2.0     │ true  │\n",
       "│ 7   │ 7           │ 3.14159 │ true  │\n",
       "│ 8   │ 8           │ 1.41421 │ false │\n",
       "│ 9   │ 9           │ 3.0     │ true  │\n",
       "│ 10  │ 10          │ 4.0     │ false │"
      ]
     },
     "execution_count": 4,
     "metadata": {},
     "output_type": "execute_result"
    }
   ],
   "source": [
    "# możemy też utworzyć DataFrame używając konstruktora\n",
    "df2=DataFrame(MojaKolumna=1:10, \n",
    "    Col2=[2,pi, sqrt(2), 3, 4,2,pi, sqrt(2), 3, 4], \n",
    "    Col3=[true,true,false,true,false,true,true,false,true,false])"
   ]
  },
  {
   "cell_type": "code",
   "execution_count": 5,
   "metadata": {},
   "outputs": [
    {
     "data": {
      "text/plain": [
       "10"
      ]
     },
     "execution_count": 5,
     "metadata": {},
     "output_type": "execute_result"
    }
   ],
   "source": [
    "# ilosc wierszy\n",
    "size(df2, 1) "
   ]
  },
  {
   "cell_type": "code",
   "execution_count": 6,
   "metadata": {},
   "outputs": [
    {
     "data": {
      "text/plain": [
       "3"
      ]
     },
     "execution_count": 6,
     "metadata": {},
     "output_type": "execute_result"
    }
   ],
   "source": [
    "#ilosc kolumn\n",
    "size(df2, 2) "
   ]
  },
  {
   "cell_type": "code",
   "execution_count": 7,
   "metadata": {},
   "outputs": [
    {
     "name": "stdout",
     "output_type": "stream",
     "text": [
      "[2.0, 3.14159, 1.41421, 3.0, 4.0, 2.0, 3.14159, 1.41421, 3.0, 4.0]"
     ]
    }
   ],
   "source": [
    "# można odwoływać się po indeksie\n",
    "show(df2[2])"
   ]
  },
  {
   "cell_type": "code",
   "execution_count": 8,
   "metadata": {},
   "outputs": [
    {
     "name": "stdout",
     "output_type": "stream",
     "text": [
      "[2.0, 3.14159, 1.41421, 3.0, 4.0, 2.0, 3.14159, 1.41421, 3.0, 4.0]"
     ]
    }
   ],
   "source": [
    "# albo po symbolu kolumny\n",
    "show(df2[:Col2])"
   ]
  },
  {
   "cell_type": "code",
   "execution_count": 9,
   "metadata": {},
   "outputs": [
    {
     "name": "stdout",
     "output_type": "stream",
     "text": [
      "1×3 DataFrame\n",
      "│ Row │ MojaKolumna │ Col2    │ Col3  │\n",
      "│     │ \u001b[90mInt64\u001b[39m       │ \u001b[90mFloat64\u001b[39m │ \u001b[90mBool\u001b[39m  │\n",
      "├─────┼─────────────┼─────────┼───────┤\n",
      "│ 1   │ 3           │ 1.41421 │ false │"
     ]
    }
   ],
   "source": [
    "# wiersze lub podzbiory wierszy i kolumn uzyskujemy poprzez operator (:). Wynikiem jest nowy DataFrame\n",
    "show(df2[3,:])"
   ]
  },
  {
   "cell_type": "code",
   "execution_count": 10,
   "metadata": {},
   "outputs": [
    {
     "data": {
      "text/html": [
       "<table class=\"data-frame\"><thead><tr><th></th><th>MojaKolumna</th><th>Col2</th><th>Col3</th></tr><tr><th></th><th>Int64</th><th>Float64</th><th>Bool</th></tr></thead><tbody><tr><th>1</th><td>2</td><td>3.14159</td><td>true</td></tr><tr><th>2</th><td>3</td><td>1.41421</td><td>false</td></tr></tbody></table>"
      ],
      "text/plain": [
       "2×3 DataFrame\n",
       "│ Row │ MojaKolumna │ Col2    │ Col3  │\n",
       "│     │ \u001b[90mInt64\u001b[39m       │ \u001b[90mFloat64\u001b[39m │ \u001b[90mBool\u001b[39m  │\n",
       "├─────┼─────────────┼─────────┼───────┤\n",
       "│ 1   │ 2           │ 3.14159 │ true  │\n",
       "│ 2   │ 3           │ 1.41421 │ false │"
      ]
     },
     "execution_count": 10,
     "metadata": {},
     "output_type": "execute_result"
    }
   ],
   "source": [
    "# drugi i trzeci wiersz\n",
    "df2[2:3, :]"
   ]
  },
  {
   "cell_type": "code",
   "execution_count": 11,
   "metadata": {},
   "outputs": [
    {
     "data": {
      "text/plain": [
       "2-element Array{Float64,1}:\n",
       " 3.141592653589793 \n",
       " 1.4142135623730951"
      ]
     },
     "execution_count": 11,
     "metadata": {},
     "output_type": "execute_result"
    }
   ],
   "source": [
    "# druga kolumna drugiego i trzeciego wiersza\n",
    "df2[2:3, :Col2]"
   ]
  },
  {
   "cell_type": "code",
   "execution_count": 12,
   "metadata": {},
   "outputs": [
    {
     "data": {
      "text/html": [
       "<table class=\"data-frame\"><thead><tr><th></th><th>Col2</th><th>Col3</th></tr><tr><th></th><th>Float64</th><th>Bool</th></tr></thead><tbody><tr><th>1</th><td>3.14159</td><td>true</td></tr><tr><th>2</th><td>1.41421</td><td>false</td></tr></tbody></table>"
      ],
      "text/plain": [
       "2×2 DataFrame\n",
       "│ Row │ Col2    │ Col3  │\n",
       "│     │ \u001b[90mFloat64\u001b[39m │ \u001b[90mBool\u001b[39m  │\n",
       "├─────┼─────────┼───────┤\n",
       "│ 1   │ 3.14159 │ true  │\n",
       "│ 2   │ 1.41421 │ false │"
      ]
     },
     "execution_count": 12,
     "metadata": {},
     "output_type": "execute_result"
    }
   ],
   "source": [
    "# druga i trzecia kolumna drugiego i trzeciego wiersza\n",
    "df2[2:3,[:Col2, :Col3]]"
   ]
  },
  {
   "cell_type": "code",
   "execution_count": 13,
   "metadata": {},
   "outputs": [
    {
     "data": {
      "text/html": [
       "<table class=\"data-frame\"><thead><tr><th></th><th>MojaKolumna</th><th>Col2</th><th>Col3</th></tr><tr><th></th><th>Int64</th><th>Float64</th><th>Bool</th></tr></thead><tbody><tr><th>1</th><td>1</td><td>2.0</td><td>true</td></tr><tr><th>2</th><td>2</td><td>3.14159</td><td>true</td></tr><tr><th>3</th><td>3</td><td>1.41421</td><td>false</td></tr><tr><th>4</th><td>4</td><td>3.0</td><td>true</td></tr><tr><th>5</th><td>5</td><td>4.0</td><td>false</td></tr><tr><th>6</th><td>6</td><td>2.0</td><td>true</td></tr></tbody></table>"
      ],
      "text/plain": [
       "6×3 DataFrame\n",
       "│ Row │ MojaKolumna │ Col2    │ Col3  │\n",
       "│     │ \u001b[90mInt64\u001b[39m       │ \u001b[90mFloat64\u001b[39m │ \u001b[90mBool\u001b[39m  │\n",
       "├─────┼─────────────┼─────────┼───────┤\n",
       "│ 1   │ 1           │ 2.0     │ true  │\n",
       "│ 2   │ 2           │ 3.14159 │ true  │\n",
       "│ 3   │ 3           │ 1.41421 │ false │\n",
       "│ 4   │ 4           │ 3.0     │ true  │\n",
       "│ 5   │ 5           │ 4.0     │ false │\n",
       "│ 6   │ 6           │ 2.0     │ true  │"
      ]
     },
     "execution_count": 13,
     "metadata": {},
     "output_type": "execute_result"
    }
   ],
   "source": [
    "# pierwsze sześć wierszy\n",
    "DataFrames.head(df2)"
   ]
  },
  {
   "cell_type": "code",
   "execution_count": 14,
   "metadata": {},
   "outputs": [
    {
     "data": {
      "text/html": [
       "<table class=\"data-frame\"><thead><tr><th></th><th>MojaKolumna</th><th>Col2</th><th>Col3</th></tr><tr><th></th><th>Int64</th><th>Float64</th><th>Bool</th></tr></thead><tbody><tr><th>1</th><td>5</td><td>4.0</td><td>false</td></tr><tr><th>2</th><td>6</td><td>2.0</td><td>true</td></tr><tr><th>3</th><td>7</td><td>3.14159</td><td>true</td></tr><tr><th>4</th><td>8</td><td>1.41421</td><td>false</td></tr><tr><th>5</th><td>9</td><td>3.0</td><td>true</td></tr><tr><th>6</th><td>10</td><td>4.0</td><td>false</td></tr></tbody></table>"
      ],
      "text/plain": [
       "6×3 DataFrame\n",
       "│ Row │ MojaKolumna │ Col2    │ Col3  │\n",
       "│     │ \u001b[90mInt64\u001b[39m       │ \u001b[90mFloat64\u001b[39m │ \u001b[90mBool\u001b[39m  │\n",
       "├─────┼─────────────┼─────────┼───────┤\n",
       "│ 1   │ 5           │ 4.0     │ false │\n",
       "│ 2   │ 6           │ 2.0     │ true  │\n",
       "│ 3   │ 7           │ 3.14159 │ true  │\n",
       "│ 4   │ 8           │ 1.41421 │ false │\n",
       "│ 5   │ 9           │ 3.0     │ true  │\n",
       "│ 6   │ 10          │ 4.0     │ false │"
      ]
     },
     "execution_count": 14,
     "metadata": {},
     "output_type": "execute_result"
    }
   ],
   "source": [
    "# ostatnie sześć wierszy\n",
    "DataFrames.tail(df2)"
   ]
  },
  {
   "cell_type": "code",
   "execution_count": 15,
   "metadata": {},
   "outputs": [
    {
     "data": {
      "text/plain": [
       "3-element Array{Symbol,1}:\n",
       " :MojaKolumna\n",
       " :Col2       \n",
       " :Col3       "
      ]
     },
     "execution_count": 15,
     "metadata": {},
     "output_type": "execute_result"
    }
   ],
   "source": [
    "# nazwy kolumn\n",
    "names(df2)"
   ]
  },
  {
   "cell_type": "code",
   "execution_count": 16,
   "metadata": {},
   "outputs": [
    {
     "data": {
      "text/plain": [
       "3-element Array{Type,1}:\n",
       " Int64  \n",
       " Float64\n",
       " Bool   "
      ]
     },
     "execution_count": 16,
     "metadata": {},
     "output_type": "execute_result"
    }
   ],
   "source": [
    "# typy kolumn\n",
    "eltypes(df2)"
   ]
  },
  {
   "cell_type": "code",
   "execution_count": 17,
   "metadata": {},
   "outputs": [
    {
     "data": {
      "text/html": [
       "<table class=\"data-frame\"><thead><tr><th></th><th>variable</th><th>mean</th><th>min</th><th>median</th><th>max</th><th>nunique</th><th>nmissing</th><th>eltype</th></tr><tr><th></th><th>Symbol</th><th>Float64</th><th>Real</th><th>Float64</th><th>Real</th><th>Nothing</th><th>Nothing</th><th>DataType</th></tr></thead><tbody><tr><th>1</th><td>MojaKolumna</td><td>5.5</td><td>1</td><td>5.5</td><td>10</td><td></td><td></td><td>Int64</td></tr><tr><th>2</th><td>Col2</td><td>2.71116</td><td>1.41421</td><td>3.0</td><td>4.0</td><td></td><td></td><td>Float64</td></tr><tr><th>3</th><td>Col3</td><td>0.6</td><td>false</td><td>1.0</td><td>true</td><td></td><td></td><td>Bool</td></tr></tbody></table>"
      ],
      "text/plain": [
       "3×8 DataFrame. Omitted printing of 1 columns\n",
       "│ Row │ variable    │ mean    │ min     │ median  │ max  │ nunique │ nmissing │\n",
       "│     │ \u001b[90mSymbol\u001b[39m      │ \u001b[90mFloat64\u001b[39m │ \u001b[90mReal\u001b[39m    │ \u001b[90mFloat64\u001b[39m │ \u001b[90mReal\u001b[39m │ \u001b[90mNothing\u001b[39m │ \u001b[90mNothing\u001b[39m  │\n",
       "├─────┼─────────────┼─────────┼─────────┼─────────┼──────┼─────────┼──────────┤\n",
       "│ 1   │ MojaKolumna │ 5.5     │ 1       │ 5.5     │ 10   │         │          │\n",
       "│ 2   │ Col2        │ 2.71116 │ 1.41421 │ 3.0     │ 4.0  │         │          │\n",
       "│ 3   │ Col3        │ 0.6     │ false   │ 1.0     │ true │         │          │"
      ]
     },
     "execution_count": 17,
     "metadata": {},
     "output_type": "execute_result"
    }
   ],
   "source": [
    "# podstawowe dane statystyczne o wartościach w kolumnie\n",
    "describe(df2)"
   ]
  },
  {
   "cell_type": "code",
   "execution_count": 18,
   "metadata": {},
   "outputs": [
    {
     "data": {
      "text/plain": [
       "2.711161243192578"
      ]
     },
     "execution_count": 18,
     "metadata": {},
     "output_type": "execute_result"
    }
   ],
   "source": [
    "using Statistics\n",
    "mean(df2[:Col2])"
   ]
  },
  {
   "cell_type": "code",
   "execution_count": 19,
   "metadata": {},
   "outputs": [
    {
     "data": {
      "text/plain": [
       "0.9150284373648316"
      ]
     },
     "execution_count": 19,
     "metadata": {},
     "output_type": "execute_result"
    }
   ],
   "source": [
    "var(df2[:Col2])"
   ]
  },
  {
   "cell_type": "code",
   "execution_count": 21,
   "metadata": {},
   "outputs": [
    {
     "data": {
      "text/html": [
       "<table class=\"data-frame\"><thead><tr><th></th><th>fixed acidity</th><th>volatile acidity</th><th>citric acid</th><th>residual sugar</th><th>chlorides</th><th>free sulfur dioxide</th><th>total sulfur dioxide</th><th>density</th><th>pH</th><th>sulphates</th><th>alcohol</th><th>quality</th></tr><tr><th></th><th>Float64⍰</th><th>Float64⍰</th><th>Float64⍰</th><th>Float64⍰</th><th>Float64⍰</th><th>Float64⍰</th><th>Float64⍰</th><th>Float64⍰</th><th>Float64⍰</th><th>Float64⍰</th><th>Float64⍰</th><th>Int64⍰</th></tr></thead><tbody><tr><th>1</th><td>7.4</td><td>0.7</td><td>0.0</td><td>1.9</td><td>0.076</td><td>11.0</td><td>34.0</td><td>0.9978</td><td>3.51</td><td>0.56</td><td>9.4</td><td>5</td></tr><tr><th>2</th><td>7.8</td><td>0.88</td><td>0.0</td><td>2.6</td><td>0.098</td><td>25.0</td><td>67.0</td><td>0.9968</td><td>3.2</td><td>0.68</td><td>9.8</td><td>5</td></tr><tr><th>3</th><td>7.8</td><td>0.76</td><td>0.04</td><td>2.3</td><td>0.092</td><td>15.0</td><td>54.0</td><td>0.997</td><td>3.26</td><td>0.65</td><td>9.8</td><td>5</td></tr><tr><th>4</th><td>11.2</td><td>0.28</td><td>0.56</td><td>1.9</td><td>0.075</td><td>17.0</td><td>60.0</td><td>0.998</td><td>3.16</td><td>0.58</td><td>9.8</td><td>6</td></tr><tr><th>5</th><td>7.4</td><td>0.7</td><td>0.0</td><td>1.9</td><td>0.076</td><td>11.0</td><td>34.0</td><td>0.9978</td><td>3.51</td><td>0.56</td><td>9.4</td><td>5</td></tr><tr><th>6</th><td>7.4</td><td>0.66</td><td>0.0</td><td>1.8</td><td>0.075</td><td>13.0</td><td>40.0</td><td>0.9978</td><td>3.51</td><td>0.56</td><td>9.4</td><td>5</td></tr><tr><th>7</th><td>7.9</td><td>0.6</td><td>0.06</td><td>1.6</td><td>0.069</td><td>15.0</td><td>59.0</td><td>0.9964</td><td>3.3</td><td>0.46</td><td>9.4</td><td>5</td></tr><tr><th>8</th><td>7.3</td><td>0.65</td><td>0.0</td><td>1.2</td><td>0.065</td><td>15.0</td><td>21.0</td><td>0.9946</td><td>3.39</td><td>0.47</td><td>10.0</td><td>7</td></tr><tr><th>9</th><td>7.8</td><td>0.58</td><td>0.02</td><td>2.0</td><td>0.073</td><td>9.0</td><td>18.0</td><td>0.9968</td><td>3.36</td><td>0.57</td><td>9.5</td><td>7</td></tr><tr><th>10</th><td>7.5</td><td>0.5</td><td>0.36</td><td>6.1</td><td>0.071</td><td>17.0</td><td>102.0</td><td>0.9978</td><td>3.35</td><td>0.8</td><td>10.5</td><td>5</td></tr><tr><th>11</th><td>6.7</td><td>0.58</td><td>0.08</td><td>1.8</td><td>0.097</td><td>15.0</td><td>65.0</td><td>0.9959</td><td>3.28</td><td>0.54</td><td>9.2</td><td>5</td></tr><tr><th>12</th><td>7.5</td><td>0.5</td><td>0.36</td><td>6.1</td><td>0.071</td><td>17.0</td><td>102.0</td><td>0.9978</td><td>3.35</td><td>0.8</td><td>10.5</td><td>5</td></tr><tr><th>13</th><td>5.6</td><td>0.615</td><td>0.0</td><td>1.6</td><td>0.089</td><td>16.0</td><td>59.0</td><td>0.9943</td><td>3.58</td><td>0.52</td><td>9.9</td><td>5</td></tr><tr><th>14</th><td>7.8</td><td>0.61</td><td>0.29</td><td>1.6</td><td>0.114</td><td>9.0</td><td>29.0</td><td>0.9974</td><td>3.26</td><td>1.56</td><td>9.1</td><td>5</td></tr><tr><th>15</th><td>8.9</td><td>0.62</td><td>0.18</td><td>3.8</td><td>0.176</td><td>52.0</td><td>145.0</td><td>0.9986</td><td>3.16</td><td>0.88</td><td>9.2</td><td>5</td></tr><tr><th>16</th><td>8.9</td><td>0.62</td><td>0.19</td><td>3.9</td><td>0.17</td><td>51.0</td><td>148.0</td><td>0.9986</td><td>3.17</td><td>0.93</td><td>9.2</td><td>5</td></tr><tr><th>17</th><td>8.5</td><td>0.28</td><td>0.56</td><td>1.8</td><td>0.092</td><td>35.0</td><td>103.0</td><td>0.9969</td><td>3.3</td><td>0.75</td><td>10.5</td><td>7</td></tr><tr><th>18</th><td>8.1</td><td>0.56</td><td>0.28</td><td>1.7</td><td>0.368</td><td>16.0</td><td>56.0</td><td>0.9968</td><td>3.11</td><td>1.28</td><td>9.3</td><td>5</td></tr><tr><th>19</th><td>7.4</td><td>0.59</td><td>0.08</td><td>4.4</td><td>0.086</td><td>6.0</td><td>29.0</td><td>0.9974</td><td>3.38</td><td>0.5</td><td>9.0</td><td>4</td></tr><tr><th>20</th><td>7.9</td><td>0.32</td><td>0.51</td><td>1.8</td><td>0.341</td><td>17.0</td><td>56.0</td><td>0.9969</td><td>3.04</td><td>1.08</td><td>9.2</td><td>6</td></tr><tr><th>21</th><td>8.9</td><td>0.22</td><td>0.48</td><td>1.8</td><td>0.077</td><td>29.0</td><td>60.0</td><td>0.9968</td><td>3.39</td><td>0.53</td><td>9.4</td><td>6</td></tr><tr><th>22</th><td>7.6</td><td>0.39</td><td>0.31</td><td>2.3</td><td>0.082</td><td>23.0</td><td>71.0</td><td>0.9982</td><td>3.52</td><td>0.65</td><td>9.7</td><td>5</td></tr><tr><th>23</th><td>7.9</td><td>0.43</td><td>0.21</td><td>1.6</td><td>0.106</td><td>10.0</td><td>37.0</td><td>0.9966</td><td>3.17</td><td>0.91</td><td>9.5</td><td>5</td></tr><tr><th>24</th><td>8.5</td><td>0.49</td><td>0.11</td><td>2.3</td><td>0.084</td><td>9.0</td><td>67.0</td><td>0.9968</td><td>3.17</td><td>0.53</td><td>9.4</td><td>5</td></tr><tr><th>25</th><td>6.9</td><td>0.4</td><td>0.14</td><td>2.4</td><td>0.085</td><td>21.0</td><td>40.0</td><td>0.9968</td><td>3.43</td><td>0.63</td><td>9.7</td><td>6</td></tr><tr><th>26</th><td>6.3</td><td>0.39</td><td>0.16</td><td>1.4</td><td>0.08</td><td>11.0</td><td>23.0</td><td>0.9955</td><td>3.34</td><td>0.56</td><td>9.3</td><td>5</td></tr><tr><th>27</th><td>7.6</td><td>0.41</td><td>0.24</td><td>1.8</td><td>0.08</td><td>4.0</td><td>11.0</td><td>0.9962</td><td>3.28</td><td>0.59</td><td>9.5</td><td>5</td></tr><tr><th>28</th><td>7.9</td><td>0.43</td><td>0.21</td><td>1.6</td><td>0.106</td><td>10.0</td><td>37.0</td><td>0.9966</td><td>3.17</td><td>0.91</td><td>9.5</td><td>5</td></tr><tr><th>29</th><td>7.1</td><td>0.71</td><td>0.0</td><td>1.9</td><td>0.08</td><td>14.0</td><td>35.0</td><td>0.9972</td><td>3.47</td><td>0.55</td><td>9.4</td><td>5</td></tr><tr><th>30</th><td>7.8</td><td>0.645</td><td>0.0</td><td>2.0</td><td>0.082</td><td>8.0</td><td>16.0</td><td>0.9964</td><td>3.38</td><td>0.59</td><td>9.8</td><td>6</td></tr><tr><th>&vellip;</th><td>&vellip;</td><td>&vellip;</td><td>&vellip;</td><td>&vellip;</td><td>&vellip;</td><td>&vellip;</td><td>&vellip;</td><td>&vellip;</td><td>&vellip;</td><td>&vellip;</td><td>&vellip;</td><td>&vellip;</td></tr></tbody></table>"
      ],
      "text/plain": [
       "1599×12 DataFrame. Omitted printing of 8 columns\n",
       "│ Row  │ fixed acidity │ volatile acidity │ citric acid │ residual sugar │\n",
       "│      │ \u001b[90mFloat64⍰\u001b[39m      │ \u001b[90mFloat64⍰\u001b[39m         │ \u001b[90mFloat64⍰\u001b[39m    │ \u001b[90mFloat64⍰\u001b[39m       │\n",
       "├──────┼───────────────┼──────────────────┼─────────────┼────────────────┤\n",
       "│ 1    │ 7.4           │ 0.7              │ 0.0         │ 1.9            │\n",
       "│ 2    │ 7.8           │ 0.88             │ 0.0         │ 2.6            │\n",
       "│ 3    │ 7.8           │ 0.76             │ 0.04        │ 2.3            │\n",
       "│ 4    │ 11.2          │ 0.28             │ 0.56        │ 1.9            │\n",
       "│ 5    │ 7.4           │ 0.7              │ 0.0         │ 1.9            │\n",
       "│ 6    │ 7.4           │ 0.66             │ 0.0         │ 1.8            │\n",
       "│ 7    │ 7.9           │ 0.6              │ 0.06        │ 1.6            │\n",
       "│ 8    │ 7.3           │ 0.65             │ 0.0         │ 1.2            │\n",
       "│ 9    │ 7.8           │ 0.58             │ 0.02        │ 2.0            │\n",
       "│ 10   │ 7.5           │ 0.5              │ 0.36        │ 6.1            │\n",
       "⋮\n",
       "│ 1589 │ 7.2           │ 0.66             │ 0.33        │ 2.5            │\n",
       "│ 1590 │ 6.6           │ 0.725            │ 0.2         │ 7.8            │\n",
       "│ 1591 │ 6.3           │ 0.55             │ 0.15        │ 1.8            │\n",
       "│ 1592 │ 5.4           │ 0.74             │ 0.09        │ 1.7            │\n",
       "│ 1593 │ 6.3           │ 0.51             │ 0.13        │ 2.3            │\n",
       "│ 1594 │ 6.8           │ 0.62             │ 0.08        │ 1.9            │\n",
       "│ 1595 │ 6.2           │ 0.6              │ 0.08        │ 2.0            │\n",
       "│ 1596 │ 5.9           │ 0.55             │ 0.1         │ 2.2            │\n",
       "│ 1597 │ 6.3           │ 0.51             │ 0.13        │ 2.3            │\n",
       "│ 1598 │ 5.9           │ 0.645            │ 0.12        │ 2.0            │\n",
       "│ 1599 │ 6.0           │ 0.31             │ 0.47        │ 3.6            │"
      ]
     },
     "execution_count": 21,
     "metadata": {},
     "output_type": "execute_result"
    }
   ],
   "source": [
    "using CSV\n",
    "input=\"winequality.csv\"\n",
    "mydata=CSV.read(input, delim=\";\")"
   ]
  },
  {
   "cell_type": "code",
   "execution_count": 22,
   "metadata": {},
   "outputs": [
    {
     "data": {
      "text/plain": [
       "DataFrame"
      ]
     },
     "execution_count": 22,
     "metadata": {},
     "output_type": "execute_result"
    }
   ],
   "source": [
    "typeof(mydata)"
   ]
  },
  {
   "cell_type": "code",
   "execution_count": 23,
   "metadata": {},
   "outputs": [
    {
     "data": {
      "text/plain": [
       "(1599, 12)"
      ]
     },
     "execution_count": 23,
     "metadata": {},
     "output_type": "execute_result"
    }
   ],
   "source": [
    "size(mydata)"
   ]
  },
  {
   "cell_type": "code",
   "execution_count": 25,
   "metadata": {},
   "outputs": [
    {
     "data": {
      "text/html": [
       "<table class=\"data-frame\"><thead><tr><th></th><th>quality</th><th>x1</th></tr><tr><th></th><th>Int64⍰</th><th>Int64</th></tr></thead><tbody><tr><th>1</th><td>5</td><td>681</td></tr><tr><th>2</th><td>6</td><td>638</td></tr><tr><th>3</th><td>7</td><td>199</td></tr><tr><th>4</th><td>4</td><td>53</td></tr><tr><th>5</th><td>8</td><td>18</td></tr><tr><th>6</th><td>3</td><td>10</td></tr></tbody></table>"
      ],
      "text/plain": [
       "6×2 DataFrame\n",
       "│ Row │ quality │ x1    │\n",
       "│     │ \u001b[90mInt64⍰\u001b[39m  │ \u001b[90mInt64\u001b[39m │\n",
       "├─────┼─────────┼───────┤\n",
       "│ 1   │ 5       │ 681   │\n",
       "│ 2   │ 6       │ 638   │\n",
       "│ 3   │ 7       │ 199   │\n",
       "│ 4   │ 4       │ 53    │\n",
       "│ 5   │ 8       │ 18    │\n",
       "│ 6   │ 3       │ 10    │"
      ]
     },
     "execution_count": 25,
     "metadata": {},
     "output_type": "execute_result"
    }
   ],
   "source": [
    "# grupowanie wierszy (tutaj po jakości (quality))\n",
    "# ostatni argument to funkcja albo wyrażenie \n",
    "#https://juliadata.github.io/DataFrames.jl/stable/man/split_apply_combine.html\n",
    "# przyklad: zliczanie ilosci win pogrupowanych po jakości\n",
    "wine_grouped=by(mydata, :quality, df->size(df,1))"
   ]
  },
  {
   "cell_type": "code",
   "execution_count": 27,
   "metadata": {},
   "outputs": [
    {
     "data": {
      "text/html": [
       "<table class=\"data-frame\"><thead><tr><th></th><th>quality</th><th>alcohol</th><th>size</th></tr><tr><th></th><th>Int64⍰</th><th>Float64⍰</th><th>Int64</th></tr></thead><tbody><tr><th>1</th><td>3</td><td>8.4</td><td>1</td></tr><tr><th>2</th><td>3</td><td>9.0</td><td>1</td></tr><tr><th>3</th><td>3</td><td>9.7</td><td>1</td></tr><tr><th>4</th><td>3</td><td>9.8</td><td>1</td></tr><tr><th>5</th><td>3</td><td>9.9</td><td>1</td></tr><tr><th>6</th><td>3</td><td>9.95</td><td>1</td></tr><tr><th>7</th><td>3</td><td>10.2</td><td>1</td></tr><tr><th>8</th><td>3</td><td>10.7</td><td>1</td></tr><tr><th>9</th><td>3</td><td>10.9</td><td>1</td></tr><tr><th>10</th><td>3</td><td>11.0</td><td>1</td></tr><tr><th>11</th><td>4</td><td>9.0</td><td>2</td></tr><tr><th>12</th><td>4</td><td>9.05</td><td>1</td></tr><tr><th>13</th><td>4</td><td>9.1</td><td>2</td></tr><tr><th>14</th><td>4</td><td>9.2</td><td>3</td></tr><tr><th>15</th><td>4</td><td>9.3</td><td>2</td></tr><tr><th>16</th><td>4</td><td>9.4</td><td>2</td></tr><tr><th>17</th><td>4</td><td>9.6</td><td>6</td></tr><tr><th>18</th><td>4</td><td>9.7</td><td>2</td></tr><tr><th>19</th><td>4</td><td>9.8</td><td>3</td></tr><tr><th>20</th><td>4</td><td>9.9</td><td>1</td></tr><tr><th>21</th><td>4</td><td>10.0</td><td>4</td></tr><tr><th>22</th><td>4</td><td>10.1</td><td>1</td></tr><tr><th>23</th><td>4</td><td>10.3</td><td>1</td></tr><tr><th>24</th><td>4</td><td>10.4</td><td>3</td></tr><tr><th>25</th><td>4</td><td>10.5</td><td>1</td></tr><tr><th>26</th><td>4</td><td>10.9</td><td>3</td></tr><tr><th>27</th><td>4</td><td>11.0</td><td>4</td></tr><tr><th>28</th><td>4</td><td>11.1</td><td>1</td></tr><tr><th>29</th><td>4</td><td>11.2</td><td>3</td></tr><tr><th>30</th><td>4</td><td>11.3</td><td>1</td></tr><tr><th>&vellip;</th><td>&vellip;</td><td>&vellip;</td><td>&vellip;</td></tr></tbody></table>"
      ],
      "text/plain": [
       "190×3 DataFrame\n",
       "│ Row │ quality │ alcohol  │ size  │\n",
       "│     │ \u001b[90mInt64⍰\u001b[39m  │ \u001b[90mFloat64⍰\u001b[39m │ \u001b[90mInt64\u001b[39m │\n",
       "├─────┼─────────┼──────────┼───────┤\n",
       "│ 1   │ 3       │ 8.4      │ 1     │\n",
       "│ 2   │ 3       │ 9.0      │ 1     │\n",
       "│ 3   │ 3       │ 9.7      │ 1     │\n",
       "│ 4   │ 3       │ 9.8      │ 1     │\n",
       "│ 5   │ 3       │ 9.9      │ 1     │\n",
       "│ 6   │ 3       │ 9.95     │ 1     │\n",
       "│ 7   │ 3       │ 10.2     │ 1     │\n",
       "│ 8   │ 3       │ 10.7     │ 1     │\n",
       "│ 9   │ 3       │ 10.9     │ 1     │\n",
       "│ 10  │ 3       │ 11.0     │ 1     │\n",
       "⋮\n",
       "│ 180 │ 8       │ 11.4     │ 1     │\n",
       "│ 181 │ 8       │ 11.7     │ 2     │\n",
       "│ 182 │ 8       │ 11.8     │ 1     │\n",
       "│ 183 │ 8       │ 12.5     │ 1     │\n",
       "│ 184 │ 8       │ 12.6     │ 1     │\n",
       "│ 185 │ 8       │ 12.7     │ 1     │\n",
       "│ 186 │ 8       │ 12.8     │ 1     │\n",
       "│ 187 │ 8       │ 12.9     │ 1     │\n",
       "│ 188 │ 8       │ 13.1     │ 1     │\n",
       "│ 189 │ 8       │ 13.4     │ 1     │\n",
       "│ 190 │ 8       │ 14.0     │ 2     │"
      ]
     },
     "execution_count": 27,
     "metadata": {},
     "output_type": "execute_result"
    }
   ],
   "source": [
    "#zaawansowane dzialanie na podgrupach\n",
    "df2=by(mydata, [:quality, :alcohol]) do mySubGroup\n",
    "          DataFrame(size = size(mySubGroup,1))\n",
    "        end\n",
    "sort(df2, [:quality, :alcohol])"
   ]
  },
  {
   "cell_type": "code",
   "execution_count": 28,
   "metadata": {},
   "outputs": [
    {
     "data": {
      "text/plain": [
       "\"dataframe1.csv\""
      ]
     },
     "execution_count": 28,
     "metadata": {},
     "output_type": "execute_result"
    }
   ],
   "source": [
    "# zapis do pliku\n",
    "# https://juliadata.github.io/DataFrames.jl/stable/man/getting_started.html#Importing-and-Exporting-Data-(I/O)-1\n",
    "CSV.write(\"dataframe1.csv\", mydata)"
   ]
  },
  {
   "cell_type": "markdown",
   "metadata": {},
   "source": [
    "\n",
    "### Graficzna reprezentacja DataFrames\n",
    "\n",
    "Do wyświetlania danych statystycznych dobrym wyborem jest dodatkowy pakiet do pakietu Plots \n",
    "\n",
    "```julia\n",
    "Pkg.add(\"StatPlots\")\n",
    "```\n",
    "https://github.com/JuliaPlots/StatPlots.jl\n",
    "\n",
    "Niestety Juliabox (chwilowo) nie pozwala na zainstalowanie dowolnych pakietow."
   ]
  },
  {
   "cell_type": "code",
   "execution_count": 29,
   "metadata": {},
   "outputs": [
    {
     "data": {
      "text/html": [
       "<table class=\"data-frame\"><thead><tr><th></th><th>a</th><th>b</th><th>c</th><th>d</th><th>e</th></tr><tr><th></th><th>Int64</th><th>Float64</th><th>Float64</th><th>Float64</th><th>Int64</th></tr></thead><tbody><tr><th>1</th><td>1</td><td>9.09694</td><td>1.41274</td><td>0.834013</td><td>1</td></tr><tr><th>2</th><td>2</td><td>0.503242</td><td>4.6139</td><td>0.716248</td><td>0</td></tr><tr><th>3</th><td>3</td><td>2.49231</td><td>9.00177</td><td>0.221035</td><td>1</td></tr><tr><th>4</th><td>4</td><td>6.13551</td><td>4.08142</td><td>0.376054</td><td>0</td></tr><tr><th>5</th><td>5</td><td>9.23738</td><td>5.26592</td><td>0.0541886</td><td>1</td></tr><tr><th>6</th><td>6</td><td>0.936259</td><td>3.34763</td><td>0.0807954</td><td>0</td></tr><tr><th>7</th><td>7</td><td>1.0992</td><td>6.26889</td><td>0.597566</td><td>1</td></tr><tr><th>8</th><td>8</td><td>4.68632</td><td>8.64845</td><td>0.656912</td><td>0</td></tr><tr><th>9</th><td>9</td><td>7.75238</td><td>3.87635</td><td>0.0201139</td><td>1</td></tr><tr><th>10</th><td>10</td><td>4.33861</td><td>6.09631</td><td>0.341777</td><td>0</td></tr></tbody></table>"
      ],
      "text/plain": [
       "10×5 DataFrame\n",
       "│ Row │ a     │ b        │ c       │ d         │ e     │\n",
       "│     │ \u001b[90mInt64\u001b[39m │ \u001b[90mFloat64\u001b[39m  │ \u001b[90mFloat64\u001b[39m │ \u001b[90mFloat64\u001b[39m   │ \u001b[90mInt64\u001b[39m │\n",
       "├─────┼───────┼──────────┼─────────┼───────────┼───────┤\n",
       "│ 1   │ 1     │ 9.09694  │ 1.41274 │ 0.834013  │ 1     │\n",
       "│ 2   │ 2     │ 0.503242 │ 4.6139  │ 0.716248  │ 0     │\n",
       "│ 3   │ 3     │ 2.49231  │ 9.00177 │ 0.221035  │ 1     │\n",
       "│ 4   │ 4     │ 6.13551  │ 4.08142 │ 0.376054  │ 0     │\n",
       "│ 5   │ 5     │ 9.23738  │ 5.26592 │ 0.0541886 │ 1     │\n",
       "│ 6   │ 6     │ 0.936259 │ 3.34763 │ 0.0807954 │ 0     │\n",
       "│ 7   │ 7     │ 1.0992   │ 6.26889 │ 0.597566  │ 1     │\n",
       "│ 8   │ 8     │ 4.68632  │ 8.64845 │ 0.656912  │ 0     │\n",
       "│ 9   │ 9     │ 7.75238  │ 3.87635 │ 0.0201139 │ 1     │\n",
       "│ 10  │ 10    │ 4.33861  │ 6.09631 │ 0.341777  │ 0     │"
      ]
     },
     "execution_count": 29,
     "metadata": {},
     "output_type": "execute_result"
    }
   ],
   "source": [
    "using DataFrames\n",
    "df = DataFrame(a = 1:10, b = 10 .* rand(10), c = 10 .* rand(10), d=rand(10), e=map(x->x%2,(1:10)))\n"
   ]
  },
  {
   "cell_type": "code",
   "execution_count": 1,
   "metadata": {},
   "outputs": [
    {
     "ename": "UndefVarError",
     "evalue": "UndefVarError: df not defined",
     "output_type": "error",
     "traceback": [
      "UndefVarError: df not defined",
      "",
      "Stacktrace:",
      " [1] top-level scope at In[1]:4"
     ]
    }
   ],
   "source": [
    "# zamiast makra @df z pakietu StatPlots mozna odwolywac sie bezposrednio do kolumn (gdyz sa typu jednowymiarowych tablic \n",
    "# Array{T,1})\n",
    "using Plots\n",
    "scatter(df[:a], [df[:b], df[:c]], colour = [:red :blue], yerr=df[:d])\n"
   ]
  },
  {
   "cell_type": "code",
   "execution_count": 31,
   "metadata": {},
   "outputs": [
    {
     "data": {
      "image/svg+xml": [
       "<?xml version=\"1.0\" encoding=\"utf-8\"?>\n",
       "<svg xmlns=\"http://www.w3.org/2000/svg\" xmlns:xlink=\"http://www.w3.org/1999/xlink\" width=\"600\" height=\"400\" viewBox=\"0 0 2400 1600\">\n",
       "<defs>\n",
       "  <clipPath id=\"clip2400\">\n",
       "    <rect x=\"0\" y=\"0\" width=\"2000\" height=\"2000\"/>\n",
       "  </clipPath>\n",
       "</defs>\n",
       "<defs>\n",
       "  <clipPath id=\"clip2401\">\n",
       "    <rect x=\"0\" y=\"0\" width=\"2400\" height=\"1600\"/>\n",
       "  </clipPath>\n",
       "</defs>\n",
       "<polygon clip-path=\"url(#clip2401)\" points=\"\n",
       "0,1600 2400,1600 2400,0 0,0 \n",
       "  \" fill=\"#ffffff\" fill-opacity=\"1\"/>\n",
       "<defs>\n",
       "  <clipPath id=\"clip2402\">\n",
       "    <rect x=\"480\" y=\"0\" width=\"1681\" height=\"1600\"/>\n",
       "  </clipPath>\n",
       "</defs>\n",
       "<polygon clip-path=\"url(#clip2401)\" points=\"\n",
       "121.251,1503.47 1121.26,1503.47 1121.26,47.2441 121.251,47.2441 \n",
       "  \" fill=\"#ffffff\" fill-opacity=\"1\"/>\n",
       "<defs>\n",
       "  <clipPath id=\"clip2403\">\n",
       "    <rect x=\"121\" y=\"47\" width=\"1001\" height=\"1457\"/>\n",
       "  </clipPath>\n",
       "</defs>\n",
       "<polyline clip-path=\"url(#clip2403)\" style=\"stroke:#000000; stroke-width:2; stroke-opacity:0.1; fill:none\" points=\"\n",
       "  254.375,1503.47 254.375,47.2441 \n",
       "  \"/>\n",
       "<polyline clip-path=\"url(#clip2403)\" style=\"stroke:#000000; stroke-width:2; stroke-opacity:0.1; fill:none\" points=\"\n",
       "  464.021,1503.47 464.021,47.2441 \n",
       "  \"/>\n",
       "<polyline clip-path=\"url(#clip2403)\" style=\"stroke:#000000; stroke-width:2; stroke-opacity:0.1; fill:none\" points=\"\n",
       "  673.667,1503.47 673.667,47.2441 \n",
       "  \"/>\n",
       "<polyline clip-path=\"url(#clip2403)\" style=\"stroke:#000000; stroke-width:2; stroke-opacity:0.1; fill:none\" points=\"\n",
       "  883.312,1503.47 883.312,47.2441 \n",
       "  \"/>\n",
       "<polyline clip-path=\"url(#clip2403)\" style=\"stroke:#000000; stroke-width:2; stroke-opacity:0.1; fill:none\" points=\"\n",
       "  1092.96,1503.47 1092.96,47.2441 \n",
       "  \"/>\n",
       "<polyline clip-path=\"url(#clip2403)\" style=\"stroke:#000000; stroke-width:2; stroke-opacity:0.1; fill:none\" points=\"\n",
       "  121.251,1226.83 1121.26,1226.83 \n",
       "  \"/>\n",
       "<polyline clip-path=\"url(#clip2403)\" style=\"stroke:#000000; stroke-width:2; stroke-opacity:0.1; fill:none\" points=\"\n",
       "  121.251,912.251 1121.26,912.251 \n",
       "  \"/>\n",
       "<polyline clip-path=\"url(#clip2403)\" style=\"stroke:#000000; stroke-width:2; stroke-opacity:0.1; fill:none\" points=\"\n",
       "  121.251,597.669 1121.26,597.669 \n",
       "  \"/>\n",
       "<polyline clip-path=\"url(#clip2403)\" style=\"stroke:#000000; stroke-width:2; stroke-opacity:0.1; fill:none\" points=\"\n",
       "  121.251,283.086 1121.26,283.086 \n",
       "  \"/>\n",
       "<polyline clip-path=\"url(#clip2401)\" style=\"stroke:#000000; stroke-width:4; stroke-opacity:1; fill:none\" points=\"\n",
       "  121.251,1503.47 1121.26,1503.47 \n",
       "  \"/>\n",
       "<polyline clip-path=\"url(#clip2401)\" style=\"stroke:#000000; stroke-width:4; stroke-opacity:1; fill:none\" points=\"\n",
       "  121.251,1503.47 121.251,47.2441 \n",
       "  \"/>\n",
       "<polyline clip-path=\"url(#clip2401)\" style=\"stroke:#000000; stroke-width:4; stroke-opacity:1; fill:none\" points=\"\n",
       "  254.375,1503.47 254.375,1481.63 \n",
       "  \"/>\n",
       "<polyline clip-path=\"url(#clip2401)\" style=\"stroke:#000000; stroke-width:4; stroke-opacity:1; fill:none\" points=\"\n",
       "  464.021,1503.47 464.021,1481.63 \n",
       "  \"/>\n",
       "<polyline clip-path=\"url(#clip2401)\" style=\"stroke:#000000; stroke-width:4; stroke-opacity:1; fill:none\" points=\"\n",
       "  673.667,1503.47 673.667,1481.63 \n",
       "  \"/>\n",
       "<polyline clip-path=\"url(#clip2401)\" style=\"stroke:#000000; stroke-width:4; stroke-opacity:1; fill:none\" points=\"\n",
       "  883.312,1503.47 883.312,1481.63 \n",
       "  \"/>\n",
       "<polyline clip-path=\"url(#clip2401)\" style=\"stroke:#000000; stroke-width:4; stroke-opacity:1; fill:none\" points=\"\n",
       "  1092.96,1503.47 1092.96,1481.63 \n",
       "  \"/>\n",
       "<polyline clip-path=\"url(#clip2401)\" style=\"stroke:#000000; stroke-width:4; stroke-opacity:1; fill:none\" points=\"\n",
       "  121.251,1226.83 136.251,1226.83 \n",
       "  \"/>\n",
       "<polyline clip-path=\"url(#clip2401)\" style=\"stroke:#000000; stroke-width:4; stroke-opacity:1; fill:none\" points=\"\n",
       "  121.251,912.251 136.251,912.251 \n",
       "  \"/>\n",
       "<polyline clip-path=\"url(#clip2401)\" style=\"stroke:#000000; stroke-width:4; stroke-opacity:1; fill:none\" points=\"\n",
       "  121.251,597.669 136.251,597.669 \n",
       "  \"/>\n",
       "<polyline clip-path=\"url(#clip2401)\" style=\"stroke:#000000; stroke-width:4; stroke-opacity:1; fill:none\" points=\"\n",
       "  121.251,283.086 136.251,283.086 \n",
       "  \"/>\n",
       "<g clip-path=\"url(#clip2401)\">\n",
       "<text style=\"fill:#000000; fill-opacity:1; font-family:Arial,Helvetica Neue,Helvetica,sans-serif; font-size:48; text-anchor:middle;\" transform=\"rotate(0, 254.375, 1557.47)\" x=\"254.375\" y=\"1557.47\">2</text>\n",
       "</g>\n",
       "<g clip-path=\"url(#clip2401)\">\n",
       "<text style=\"fill:#000000; fill-opacity:1; font-family:Arial,Helvetica Neue,Helvetica,sans-serif; font-size:48; text-anchor:middle;\" transform=\"rotate(0, 464.021, 1557.47)\" x=\"464.021\" y=\"1557.47\">4</text>\n",
       "</g>\n",
       "<g clip-path=\"url(#clip2401)\">\n",
       "<text style=\"fill:#000000; fill-opacity:1; font-family:Arial,Helvetica Neue,Helvetica,sans-serif; font-size:48; text-anchor:middle;\" transform=\"rotate(0, 673.667, 1557.47)\" x=\"673.667\" y=\"1557.47\">6</text>\n",
       "</g>\n",
       "<g clip-path=\"url(#clip2401)\">\n",
       "<text style=\"fill:#000000; fill-opacity:1; font-family:Arial,Helvetica Neue,Helvetica,sans-serif; font-size:48; text-anchor:middle;\" transform=\"rotate(0, 883.312, 1557.47)\" x=\"883.312\" y=\"1557.47\">8</text>\n",
       "</g>\n",
       "<g clip-path=\"url(#clip2401)\">\n",
       "<text style=\"fill:#000000; fill-opacity:1; font-family:Arial,Helvetica Neue,Helvetica,sans-serif; font-size:48; text-anchor:middle;\" transform=\"rotate(0, 1092.96, 1557.47)\" x=\"1092.96\" y=\"1557.47\">10</text>\n",
       "</g>\n",
       "<g clip-path=\"url(#clip2401)\">\n",
       "<text style=\"fill:#000000; fill-opacity:1; font-family:Arial,Helvetica Neue,Helvetica,sans-serif; font-size:48; text-anchor:end;\" transform=\"rotate(0, 97.2505, 1244.33)\" x=\"97.2505\" y=\"1244.33\">2</text>\n",
       "</g>\n",
       "<g clip-path=\"url(#clip2401)\">\n",
       "<text style=\"fill:#000000; fill-opacity:1; font-family:Arial,Helvetica Neue,Helvetica,sans-serif; font-size:48; text-anchor:end;\" transform=\"rotate(0, 97.2505, 929.751)\" x=\"97.2505\" y=\"929.751\">4</text>\n",
       "</g>\n",
       "<g clip-path=\"url(#clip2401)\">\n",
       "<text style=\"fill:#000000; fill-opacity:1; font-family:Arial,Helvetica Neue,Helvetica,sans-serif; font-size:48; text-anchor:end;\" transform=\"rotate(0, 97.2505, 615.169)\" x=\"97.2505\" y=\"615.169\">6</text>\n",
       "</g>\n",
       "<g clip-path=\"url(#clip2401)\">\n",
       "<text style=\"fill:#000000; fill-opacity:1; font-family:Arial,Helvetica Neue,Helvetica,sans-serif; font-size:48; text-anchor:end;\" transform=\"rotate(0, 97.2505, 300.586)\" x=\"97.2505\" y=\"300.586\">8</text>\n",
       "</g>\n",
       "<polyline clip-path=\"url(#clip2403)\" style=\"stroke:#ff0000; stroke-width:4; stroke-opacity:1; fill:none\" points=\"\n",
       "  254.375,1462.26 464.021,576.354 673.667,1394.15 883.312,804.3 1092.96,858.99 \n",
       "  \"/>\n",
       "<polyline clip-path=\"url(#clip2403)\" style=\"stroke:#008000; stroke-width:4; stroke-opacity:1; fill:none\" points=\"\n",
       "  149.553,110.548 359.198,1149.4 568.844,88.4582 778.489,1368.52 988.135,322.035 \n",
       "  \"/>\n",
       "<polygon clip-path=\"url(#clip2401)\" points=\"\n",
       "782.498,312.204 1049.26,312.204 1049.26,130.764 782.498,130.764 \n",
       "  \" fill=\"#ffffff\" fill-opacity=\"1\"/>\n",
       "<polyline clip-path=\"url(#clip2401)\" style=\"stroke:#000000; stroke-width:4; stroke-opacity:1; fill:none\" points=\"\n",
       "  782.498,312.204 1049.26,312.204 1049.26,130.764 782.498,130.764 782.498,312.204 \n",
       "  \"/>\n",
       "<polyline clip-path=\"url(#clip2401)\" style=\"stroke:#ff0000; stroke-width:4; stroke-opacity:1; fill:none\" points=\"\n",
       "  806.498,191.244 950.498,191.244 \n",
       "  \"/>\n",
       "<g clip-path=\"url(#clip2401)\">\n",
       "<text style=\"fill:#000000; fill-opacity:1; font-family:Arial,Helvetica Neue,Helvetica,sans-serif; font-size:48; text-anchor:start;\" transform=\"rotate(0, 974.498, 208.744)\" x=\"974.498\" y=\"208.744\">0</text>\n",
       "</g>\n",
       "<polyline clip-path=\"url(#clip2401)\" style=\"stroke:#008000; stroke-width:4; stroke-opacity:1; fill:none\" points=\"\n",
       "  806.498,251.724 950.498,251.724 \n",
       "  \"/>\n",
       "<g clip-path=\"url(#clip2401)\">\n",
       "<text style=\"fill:#000000; fill-opacity:1; font-family:Arial,Helvetica Neue,Helvetica,sans-serif; font-size:48; text-anchor:start;\" transform=\"rotate(0, 974.498, 269.224)\" x=\"974.498\" y=\"269.224\">1</text>\n",
       "</g>\n",
       "<polygon clip-path=\"url(#clip2401)\" points=\"\n",
       "1321.25,1503.47 2321.26,1503.47 2321.26,47.2441 1321.25,47.2441 \n",
       "  \" fill=\"#ffffff\" fill-opacity=\"1\"/>\n",
       "<defs>\n",
       "  <clipPath id=\"clip2404\">\n",
       "    <rect x=\"1321\" y=\"47\" width=\"1001\" height=\"1457\"/>\n",
       "  </clipPath>\n",
       "</defs>\n",
       "<polyline clip-path=\"url(#clip2404)\" style=\"stroke:#000000; stroke-width:2; stroke-opacity:0.1; fill:none\" points=\"\n",
       "  1454.38,1503.47 1454.38,47.2441 \n",
       "  \"/>\n",
       "<polyline clip-path=\"url(#clip2404)\" style=\"stroke:#000000; stroke-width:2; stroke-opacity:0.1; fill:none\" points=\"\n",
       "  1664.02,1503.47 1664.02,47.2441 \n",
       "  \"/>\n",
       "<polyline clip-path=\"url(#clip2404)\" style=\"stroke:#000000; stroke-width:2; stroke-opacity:0.1; fill:none\" points=\"\n",
       "  1873.67,1503.47 1873.67,47.2441 \n",
       "  \"/>\n",
       "<polyline clip-path=\"url(#clip2404)\" style=\"stroke:#000000; stroke-width:2; stroke-opacity:0.1; fill:none\" points=\"\n",
       "  2083.31,1503.47 2083.31,47.2441 \n",
       "  \"/>\n",
       "<polyline clip-path=\"url(#clip2404)\" style=\"stroke:#000000; stroke-width:2; stroke-opacity:0.1; fill:none\" points=\"\n",
       "  2292.96,1503.47 2292.96,47.2441 \n",
       "  \"/>\n",
       "<polyline clip-path=\"url(#clip2404)\" style=\"stroke:#000000; stroke-width:2; stroke-opacity:0.1; fill:none\" points=\"\n",
       "  1321.25,1355.95 2321.26,1355.95 \n",
       "  \"/>\n",
       "<polyline clip-path=\"url(#clip2404)\" style=\"stroke:#000000; stroke-width:2; stroke-opacity:0.1; fill:none\" points=\"\n",
       "  1321.25,993.902 2321.26,993.902 \n",
       "  \"/>\n",
       "<polyline clip-path=\"url(#clip2404)\" style=\"stroke:#000000; stroke-width:2; stroke-opacity:0.1; fill:none\" points=\"\n",
       "  1321.25,631.853 2321.26,631.853 \n",
       "  \"/>\n",
       "<polyline clip-path=\"url(#clip2404)\" style=\"stroke:#000000; stroke-width:2; stroke-opacity:0.1; fill:none\" points=\"\n",
       "  1321.25,269.803 2321.26,269.803 \n",
       "  \"/>\n",
       "<polyline clip-path=\"url(#clip2401)\" style=\"stroke:#000000; stroke-width:4; stroke-opacity:1; fill:none\" points=\"\n",
       "  1321.25,1503.47 2321.26,1503.47 \n",
       "  \"/>\n",
       "<polyline clip-path=\"url(#clip2401)\" style=\"stroke:#000000; stroke-width:4; stroke-opacity:1; fill:none\" points=\"\n",
       "  1321.25,1503.47 1321.25,47.2441 \n",
       "  \"/>\n",
       "<polyline clip-path=\"url(#clip2401)\" style=\"stroke:#000000; stroke-width:4; stroke-opacity:1; fill:none\" points=\"\n",
       "  1454.38,1503.47 1454.38,1481.63 \n",
       "  \"/>\n",
       "<polyline clip-path=\"url(#clip2401)\" style=\"stroke:#000000; stroke-width:4; stroke-opacity:1; fill:none\" points=\"\n",
       "  1664.02,1503.47 1664.02,1481.63 \n",
       "  \"/>\n",
       "<polyline clip-path=\"url(#clip2401)\" style=\"stroke:#000000; stroke-width:4; stroke-opacity:1; fill:none\" points=\"\n",
       "  1873.67,1503.47 1873.67,1481.63 \n",
       "  \"/>\n",
       "<polyline clip-path=\"url(#clip2401)\" style=\"stroke:#000000; stroke-width:4; stroke-opacity:1; fill:none\" points=\"\n",
       "  2083.31,1503.47 2083.31,1481.63 \n",
       "  \"/>\n",
       "<polyline clip-path=\"url(#clip2401)\" style=\"stroke:#000000; stroke-width:4; stroke-opacity:1; fill:none\" points=\"\n",
       "  2292.96,1503.47 2292.96,1481.63 \n",
       "  \"/>\n",
       "<polyline clip-path=\"url(#clip2401)\" style=\"stroke:#000000; stroke-width:4; stroke-opacity:1; fill:none\" points=\"\n",
       "  1321.25,1355.95 1336.25,1355.95 \n",
       "  \"/>\n",
       "<polyline clip-path=\"url(#clip2401)\" style=\"stroke:#000000; stroke-width:4; stroke-opacity:1; fill:none\" points=\"\n",
       "  1321.25,993.902 1336.25,993.902 \n",
       "  \"/>\n",
       "<polyline clip-path=\"url(#clip2401)\" style=\"stroke:#000000; stroke-width:4; stroke-opacity:1; fill:none\" points=\"\n",
       "  1321.25,631.853 1336.25,631.853 \n",
       "  \"/>\n",
       "<polyline clip-path=\"url(#clip2401)\" style=\"stroke:#000000; stroke-width:4; stroke-opacity:1; fill:none\" points=\"\n",
       "  1321.25,269.803 1336.25,269.803 \n",
       "  \"/>\n",
       "<g clip-path=\"url(#clip2401)\">\n",
       "<text style=\"fill:#000000; fill-opacity:1; font-family:Arial,Helvetica Neue,Helvetica,sans-serif; font-size:48; text-anchor:middle;\" transform=\"rotate(0, 1454.38, 1557.47)\" x=\"1454.38\" y=\"1557.47\">2</text>\n",
       "</g>\n",
       "<g clip-path=\"url(#clip2401)\">\n",
       "<text style=\"fill:#000000; fill-opacity:1; font-family:Arial,Helvetica Neue,Helvetica,sans-serif; font-size:48; text-anchor:middle;\" transform=\"rotate(0, 1664.02, 1557.47)\" x=\"1664.02\" y=\"1557.47\">4</text>\n",
       "</g>\n",
       "<g clip-path=\"url(#clip2401)\">\n",
       "<text style=\"fill:#000000; fill-opacity:1; font-family:Arial,Helvetica Neue,Helvetica,sans-serif; font-size:48; text-anchor:middle;\" transform=\"rotate(0, 1873.67, 1557.47)\" x=\"1873.67\" y=\"1557.47\">6</text>\n",
       "</g>\n",
       "<g clip-path=\"url(#clip2401)\">\n",
       "<text style=\"fill:#000000; fill-opacity:1; font-family:Arial,Helvetica Neue,Helvetica,sans-serif; font-size:48; text-anchor:middle;\" transform=\"rotate(0, 2083.31, 1557.47)\" x=\"2083.31\" y=\"1557.47\">8</text>\n",
       "</g>\n",
       "<g clip-path=\"url(#clip2401)\">\n",
       "<text style=\"fill:#000000; fill-opacity:1; font-family:Arial,Helvetica Neue,Helvetica,sans-serif; font-size:48; text-anchor:middle;\" transform=\"rotate(0, 2292.96, 1557.47)\" x=\"2292.96\" y=\"1557.47\">10</text>\n",
       "</g>\n",
       "<g clip-path=\"url(#clip2401)\">\n",
       "<text style=\"fill:#000000; fill-opacity:1; font-family:Arial,Helvetica Neue,Helvetica,sans-serif; font-size:48; text-anchor:end;\" transform=\"rotate(0, 1297.25, 1373.45)\" x=\"1297.25\" y=\"1373.45\">2</text>\n",
       "</g>\n",
       "<g clip-path=\"url(#clip2401)\">\n",
       "<text style=\"fill:#000000; fill-opacity:1; font-family:Arial,Helvetica Neue,Helvetica,sans-serif; font-size:48; text-anchor:end;\" transform=\"rotate(0, 1297.25, 1011.4)\" x=\"1297.25\" y=\"1011.4\">4</text>\n",
       "</g>\n",
       "<g clip-path=\"url(#clip2401)\">\n",
       "<text style=\"fill:#000000; fill-opacity:1; font-family:Arial,Helvetica Neue,Helvetica,sans-serif; font-size:48; text-anchor:end;\" transform=\"rotate(0, 1297.25, 649.353)\" x=\"1297.25\" y=\"649.353\">6</text>\n",
       "</g>\n",
       "<g clip-path=\"url(#clip2401)\">\n",
       "<text style=\"fill:#000000; fill-opacity:1; font-family:Arial,Helvetica Neue,Helvetica,sans-serif; font-size:48; text-anchor:end;\" transform=\"rotate(0, 1297.25, 287.303)\" x=\"1297.25\" y=\"287.303\">8</text>\n",
       "</g>\n",
       "<polyline clip-path=\"url(#clip2404)\" style=\"stroke:#0000ff; stroke-width:4; stroke-opacity:1; fill:none\" points=\"\n",
       "  1454.38,882.771 1664.02,979.163 1873.67,1112 2083.31,152.418 2292.96,614.418 \n",
       "  \"/>\n",
       "<polyline clip-path=\"url(#clip2404)\" style=\"stroke:#000000; stroke-width:4; stroke-opacity:1; fill:none\" points=\"\n",
       "  1349.55,1462.26 1559.2,88.4582 1768.84,764.739 1978.49,583.178 2188.13,1016.29 \n",
       "  \"/>\n",
       "<polygon clip-path=\"url(#clip2401)\" points=\"\n",
       "1982.5,312.204 2249.26,312.204 2249.26,130.764 1982.5,130.764 \n",
       "  \" fill=\"#ffffff\" fill-opacity=\"1\"/>\n",
       "<polyline clip-path=\"url(#clip2401)\" style=\"stroke:#000000; stroke-width:4; stroke-opacity:1; fill:none\" points=\"\n",
       "  1982.5,312.204 2249.26,312.204 2249.26,130.764 1982.5,130.764 1982.5,312.204 \n",
       "  \"/>\n",
       "<polyline clip-path=\"url(#clip2401)\" style=\"stroke:#0000ff; stroke-width:4; stroke-opacity:1; fill:none\" points=\"\n",
       "  2006.5,191.244 2150.5,191.244 \n",
       "  \"/>\n",
       "<g clip-path=\"url(#clip2401)\">\n",
       "<text style=\"fill:#000000; fill-opacity:1; font-family:Arial,Helvetica Neue,Helvetica,sans-serif; font-size:48; text-anchor:start;\" transform=\"rotate(0, 2174.5, 208.744)\" x=\"2174.5\" y=\"208.744\">0</text>\n",
       "</g>\n",
       "<polyline clip-path=\"url(#clip2401)\" style=\"stroke:#000000; stroke-width:4; stroke-opacity:1; fill:none\" points=\"\n",
       "  2006.5,251.724 2150.5,251.724 \n",
       "  \"/>\n",
       "<g clip-path=\"url(#clip2401)\">\n",
       "<text style=\"fill:#000000; fill-opacity:1; font-family:Arial,Helvetica Neue,Helvetica,sans-serif; font-size:48; text-anchor:start;\" transform=\"rotate(0, 2174.5, 269.224)\" x=\"2174.5\" y=\"269.224\">1</text>\n",
       "</g>\n",
       "</svg>\n"
      ]
     },
     "execution_count": 31,
     "metadata": {},
     "output_type": "execute_result"
    }
   ],
   "source": [
    "plot(df[:a], [df[:b], df[:c]], group=df[:e], colour = [:red :blue :green :black], layout=2)"
   ]
  },
  {
   "cell_type": "markdown",
   "metadata": {},
   "source": [
    "### Zadanie \n",
    "- Napisać program w języku C używającego  interfejsu GSL do BLAS:<a href=\"https://www.gnu.org/software/gsl/doc/html/blas.html?highlight=blas#c.gsl_blas_ddot\"> funkcji gsl_blas_ddot </a> (mnożenie dwóch wektorów) i \n",
    "<a href=\"https://www.gnu.org/software/gsl/doc/html/blas.html?highlight=blas#c.gsl_blas_dgemv\">gsl_blas_dgemv</a> (mnożenie macierzy przez wektor). <a href=\"https://www.gnu.org/software/gsl/doc/html/blas.html?highlight=blas#examples\"> Przykłady użycia.</a>\n",
    "- Uruchomić i zmierzyć czasy działania obydwu funkcji - każdej dla różnych rozmiarów wektorów.  Dokonać 10 pomiarów dla każdego rozmiaru wektora.\n",
    "- Czasy działania powinny  być zapisywane do <b>jednego</b> pliku CSV. Należy zaplanować odpowiednią strukturę kolumn takiego pliku.\n",
    "- Wczytać dane z w/w pliku do <b>jednego</b> DataFrame w języku Julia. \n",
    "- Korzystająć z mechanizmów DataFrame w języku Julia obliczyć średnią i odchylenie standardowe, w taki sposób, aby narysować wykresy średnich czasów obliczenia operacji BLAS w zależności od rozmiaru wektora (macierzy) osobno dla poziomu 1 i poziomu 2. Dodać słupki błędów do obydwu wykresów uzyskanych z obliczenia odchylenia standardowego. Prosze poukladac wykresy  w tabalke za pomoca  opcji layout\n",
    "- Należy zadbać o staranne podpisanie osi i wykresów."
   ]
  },
  {
   "cell_type": "code",
   "execution_count": 7,
   "metadata": {},
   "outputs": [
    {
     "name": "stdout",
     "output_type": "stream",
     "text": [
      "\u001b[32m\u001b[1m  Updating\u001b[22m\u001b[39m registry at `~/.julia/registries/General`\n",
      "\u001b[32m\u001b[1m  Updating\u001b[22m\u001b[39m git-repo `https://github.com/JuliaRegistries/General.git`\n",
      "\u001b[2K\u001b[?25h[1mFetching:\u001b[22m\u001b[39m [========================================>]  99.9 %0.0 % [========>                                ]  18.7 %\u001b[36m\u001b[1mFetching:\u001b[22m\u001b[39m [=========>                               ]  21.4 %>                          ]  34.4 %>                   ]  51.8 %>           ]  71.7 %==================================>      ]  84.8 %\u001b[36m\u001b[1mFetching:\u001b[22m\u001b[39m [==================================>      ]  85.0 %>]  98.0 %\u001b[32m\u001b[1m Resolving\u001b[22m\u001b[39m package versions...\n",
      "\u001b[32m\u001b[1m Installed\u001b[22m\u001b[39m IteratorInterfaceExtensions ─ v0.1.1\n",
      "\u001b[32m\u001b[1m Installed\u001b[22m\u001b[39m TableTraits ───────────────── v0.4.0\n",
      "\u001b[32m\u001b[1m Installed\u001b[22m\u001b[39m Tables ────────────────────── v0.1.10\n",
      "\u001b[32m\u001b[1m Installed\u001b[22m\u001b[39m BinaryProvider ────────────── v0.5.2\n",
      "\u001b[32m\u001b[1m Installed\u001b[22m\u001b[39m TranscodingStreams ────────── v0.8.1\n",
      "\u001b[32m\u001b[1m Installed\u001b[22m\u001b[39m CategoricalArrays ─────────── v0.4.0\n",
      "\u001b[32m\u001b[1m Installed\u001b[22m\u001b[39m DataFrames ────────────────── v0.14.1\n",
      "\u001b[32m\u001b[1m Installed\u001b[22m\u001b[39m GR ────────────────────────── v0.35.0\n",
      "\u001b[32m\u001b[1m Installed\u001b[22m\u001b[39m MbedTLS ───────────────────── v0.6.4\n",
      "\u001b[32m\u001b[1m Installed\u001b[22m\u001b[39m CodecZlib ─────────────────── v0.5.0\n",
      "\u001b[32m\u001b[1m Installed\u001b[22m\u001b[39m Compat ────────────────────── v1.3.0\n",
      "\u001b[32m\u001b[1m Installed\u001b[22m\u001b[39m DataStreams ───────────────── v0.4.1\n",
      "\u001b[32m\u001b[1m Installed\u001b[22m\u001b[39m Conda ─────────────────────── v1.1.1\n",
      "\u001b[32m\u001b[1m Installed\u001b[22m\u001b[39m WeakRefStrings ────────────── v0.5.3\n",
      "\u001b[32m\u001b[1m  Updating\u001b[22m\u001b[39m `~/.julia/environments/v1.0/Project.toml`\n",
      " \u001b[90m [a93c6f00]\u001b[39m\u001b[92m + DataFrames v0.14.1\u001b[39m\n",
      "\u001b[32m\u001b[1m  Updating\u001b[22m\u001b[39m `~/.julia/environments/v1.0/Manifest.toml`\n",
      " \u001b[90m [b99e7846]\u001b[39m\u001b[93m ↑ BinaryProvider v0.5.1 ⇒ v0.5.2\u001b[39m\n",
      " \u001b[90m [324d7699]\u001b[39m\u001b[92m + CategoricalArrays v0.4.0\u001b[39m\n",
      " \u001b[90m [944b1d66]\u001b[39m\u001b[92m + CodecZlib v0.5.0\u001b[39m\n",
      " \u001b[90m [34da2185]\u001b[39m\u001b[93m ↑ Compat v1.2.0 ⇒ v1.3.0\u001b[39m\n",
      " \u001b[90m [8f4d0f93]\u001b[39m\u001b[93m ↑ Conda v1.0.2 ⇒ v1.1.1\u001b[39m\n",
      " \u001b[90m [a93c6f00]\u001b[39m\u001b[92m + DataFrames v0.14.1\u001b[39m\n",
      " \u001b[90m [9a8bc11e]\u001b[39m\u001b[92m + DataStreams v0.4.1\u001b[39m\n",
      " \u001b[90m [28b8d3ca]\u001b[39m\u001b[93m ↑ GR v0.34.1 ⇒ v0.35.0\u001b[39m\n",
      " \u001b[90m [82899510]\u001b[39m\u001b[92m + IteratorInterfaceExtensions v0.1.1\u001b[39m\n",
      " \u001b[90m [739be429]\u001b[39m\u001b[93m ↑ MbedTLS v0.6.3 ⇒ v0.6.4\u001b[39m\n",
      " \u001b[90m [3783bdb8]\u001b[39m\u001b[92m + TableTraits v0.4.0\u001b[39m\n",
      " \u001b[90m [bd369af6]\u001b[39m\u001b[92m + Tables v0.1.10\u001b[39m\n",
      " \u001b[90m [3bb67fe8]\u001b[39m\u001b[92m + TranscodingStreams v0.8.1\u001b[39m\n",
      " \u001b[90m [ea10d353]\u001b[39m\u001b[92m + WeakRefStrings v0.5.3\u001b[39m\n",
      " \u001b[90m [9fa8497b]\u001b[39m\u001b[92m + Future \u001b[39m\n",
      "\u001b[32m\u001b[1m  Building\u001b[22m\u001b[39m GR ───────→ `~/.julia/packages/GR/k8wwU/deps/build.log`\n",
      "\u001b[32m\u001b[1m  Building\u001b[22m\u001b[39m MbedTLS ──→ `~/.julia/packages/MbedTLS/CwGUN/deps/build.log`\n",
      "\u001b[32m\u001b[1m  Building\u001b[22m\u001b[39m CodecZlib → `~/.julia/packages/CodecZlib/wwgbh/deps/build.log`\n",
      "\u001b[32m\u001b[1m  Building\u001b[22m\u001b[39m Conda ────→ `~/.julia/packages/Conda/uQitS/deps/build.log`\n",
      "\u001b[32m\u001b[1m Resolving\u001b[22m\u001b[39m package versions...\n",
      "\u001b[32m\u001b[1m Installed\u001b[22m\u001b[39m URIParser ────────────── v0.4.0\n",
      "\u001b[32m\u001b[1m Installed\u001b[22m\u001b[39m DiffResults ──────────── v0.0.3\n",
      "\u001b[32m\u001b[1m Installed\u001b[22m\u001b[39m PositiveFactorizations ─ v0.2.1\n",
      "\u001b[32m\u001b[1m Installed\u001b[22m\u001b[39m Rmath ────────────────── v0.5.0\n",
      "\u001b[32m\u001b[1m Installed\u001b[22m\u001b[39m FFTW ─────────────────── v0.2.4\n",
      "\u001b[32m\u001b[1m Installed\u001b[22m\u001b[39m StatPlots ────────────── v0.8.1\n",
      "\u001b[32m\u001b[1m Installed\u001b[22m\u001b[39m Distributions ────────── v0.16.4\n",
      "\u001b[32m\u001b[1m Installed\u001b[22m\u001b[39m Optim ────────────────── v0.17.1\n",
      "\u001b[32m\u001b[1m Installed\u001b[22m\u001b[39m TableTraitsUtils ─────── v0.3.1\n",
      "\u001b[32m\u001b[1m Installed\u001b[22m\u001b[39m Distances ────────────── v0.7.3\n",
      "\u001b[32m\u001b[1m Installed\u001b[22m\u001b[39m Parameters ───────────── v0.10.1\n",
      "\u001b[32m\u001b[1m Installed\u001b[22m\u001b[39m NLSolversBase ────────── v7.1.1\n",
      "\u001b[32m\u001b[1m Installed\u001b[22m\u001b[39m SpecialFunctions ─────── v0.7.1\n",
      "\u001b[32m\u001b[1m Installed\u001b[22m\u001b[39m LineSearches ─────────── v7.0.0\n",
      "\u001b[32m\u001b[1m Installed\u001b[22m\u001b[39m OffsetArrays ─────────── v0.8.1\n",
      "\u001b[32m\u001b[1m Installed\u001b[22m\u001b[39m StatsFuns ────────────── v0.7.0\n",
      "\u001b[32m\u001b[1m Installed\u001b[22m\u001b[39m BinDeps ──────────────── v0.8.10\n",
      "\u001b[32m\u001b[1m Installed\u001b[22m\u001b[39m Widgets ──────────────── v0.4.3\n",
      "\u001b[32m\u001b[1m Installed\u001b[22m\u001b[39m ForwardDiff ──────────── v0.10.0\n",
      "\u001b[32m\u001b[1m Installed\u001b[22m\u001b[39m DiffEqDiffTools ──────── v0.7.0\n",
      "\u001b[32m\u001b[1m Installed\u001b[22m\u001b[39m Arpack ───────────────── v0.3.0\n",
      "\u001b[32m\u001b[1m Installed\u001b[22m\u001b[39m Calculus ─────────────── v0.4.1\n",
      "\u001b[32m\u001b[1m Installed\u001b[22m\u001b[39m CommonSubexpressions ─── v0.2.0\n",
      "\u001b[32m\u001b[1m Installed\u001b[22m\u001b[39m NearestNeighbors ─────── v0.4.2\n",
      "\u001b[32m\u001b[1m Installed\u001b[22m\u001b[39m QuadGK ───────────────── v2.0.2\n",
      "\u001b[32m\u001b[1m Installed\u001b[22m\u001b[39m KernelDensity ────────── v0.5.0\n",
      "\u001b[32m\u001b[1m Installed\u001b[22m\u001b[39m PDMats ───────────────── v0.9.5\n",
      "\u001b[32m\u001b[1m Installed\u001b[22m\u001b[39m IterableTables ───────── v0.9.0\n",
      "\u001b[32m\u001b[1m Installed\u001b[22m\u001b[39m DataValues ───────────── v0.4.5\n",
      "\u001b[32m\u001b[1m Installed\u001b[22m\u001b[39m Ratios ───────────────── v0.3.0\n",
      "\u001b[32m\u001b[1m Installed\u001b[22m\u001b[39m Observables ──────────── v0.2.2\n",
      "\u001b[32m\u001b[1m Installed\u001b[22m\u001b[39m AxisAlgorithms ───────── v0.3.0\n",
      "\u001b[32m\u001b[1m Installed\u001b[22m\u001b[39m WoodburyMatrices ─────── v0.4.1\n",
      "\u001b[32m\u001b[1m Installed\u001b[22m\u001b[39m DiffRules ────────────── v0.0.7\n",
      "\u001b[32m\u001b[1m Installed\u001b[22m\u001b[39m Interpolations ───────── v0.10.5\n",
      "\u001b[32m\u001b[1m Installed\u001b[22m\u001b[39m Clustering ───────────── v0.12.1\n",
      "\u001b[32m\u001b[1m Installed\u001b[22m\u001b[39m AbstractFFTs ─────────── v0.3.2\n",
      "\u001b[32m\u001b[1m  Updating\u001b[22m\u001b[39m `~/.julia/environments/v1.0/Project.toml`\n",
      " \u001b[90m [60ddc479]\u001b[39m\u001b[92m + StatPlots v0.8.1\u001b[39m\n",
      "\u001b[32m\u001b[1m  Updating\u001b[22m\u001b[39m `~/.julia/environments/v1.0/Manifest.toml`\n",
      " \u001b[90m [621f4979]\u001b[39m\u001b[92m + AbstractFFTs v0.3.2\u001b[39m\n",
      " \u001b[90m [7d9fca2a]\u001b[39m\u001b[92m + Arpack v0.3.0\u001b[39m\n",
      " \u001b[90m [13072b0f]\u001b[39m\u001b[92m + AxisAlgorithms v0.3.0\u001b[39m\n",
      " \u001b[90m [9e28174c]\u001b[39m\u001b[92m + BinDeps v0.8.10\u001b[39m\n",
      " \u001b[90m [49dc2e85]\u001b[39m\u001b[92m + Calculus v0.4.1\u001b[39m\n",
      " \u001b[90m [aaaa29a8]\u001b[39m\u001b[92m + Clustering v0.12.1\u001b[39m\n",
      " \u001b[90m [bbf7d656]\u001b[39m\u001b[92m + CommonSubexpressions v0.2.0\u001b[39m\n",
      " \u001b[90m [e7dc6d0d]\u001b[39m\u001b[92m + DataValues v0.4.5\u001b[39m\n",
      " \u001b[90m [01453d9d]\u001b[39m\u001b[92m + DiffEqDiffTools v0.7.0\u001b[39m\n",
      " \u001b[90m [163ba53b]\u001b[39m\u001b[92m + DiffResults v0.0.3\u001b[39m\n",
      " \u001b[90m [b552c78f]\u001b[39m\u001b[92m + DiffRules v0.0.7\u001b[39m\n",
      " \u001b[90m [b4f34e82]\u001b[39m\u001b[92m + Distances v0.7.3\u001b[39m\n",
      " \u001b[90m [31c24e10]\u001b[39m\u001b[92m + Distributions v0.16.4\u001b[39m\n",
      " \u001b[90m [7a1cc6ca]\u001b[39m\u001b[92m + FFTW v0.2.4\u001b[39m\n",
      " \u001b[90m [f6369f11]\u001b[39m\u001b[92m + ForwardDiff v0.10.0\u001b[39m\n",
      " \u001b[90m [a98d9a8b]\u001b[39m\u001b[92m + Interpolations v0.10.5\u001b[39m\n",
      " \u001b[90m [1c8ee90f]\u001b[39m\u001b[92m + IterableTables v0.9.0\u001b[39m\n",
      " \u001b[90m [5ab0869b]\u001b[39m\u001b[92m + KernelDensity v0.5.0\u001b[39m\n",
      " \u001b[90m [d3d80556]\u001b[39m\u001b[92m + LineSearches v7.0.0\u001b[39m\n",
      " \u001b[90m [d41bc354]\u001b[39m\u001b[92m + NLSolversBase v7.1.1\u001b[39m\n",
      " \u001b[90m [b8a86587]\u001b[39m\u001b[92m + NearestNeighbors v0.4.2\u001b[39m\n",
      " \u001b[90m [510215fc]\u001b[39m\u001b[92m + Observables v0.2.2\u001b[39m\n",
      " \u001b[90m [6fe1bfb0]\u001b[39m\u001b[92m + OffsetArrays v0.8.1\u001b[39m\n",
      " \u001b[90m [429524aa]\u001b[39m\u001b[92m + Optim v0.17.1\u001b[39m\n",
      " \u001b[90m [90014a1f]\u001b[39m\u001b[92m + PDMats v0.9.5\u001b[39m\n",
      " \u001b[90m [d96e819e]\u001b[39m\u001b[92m + Parameters v0.10.1\u001b[39m\n",
      " \u001b[90m [85a6dd25]\u001b[39m\u001b[92m + PositiveFactorizations v0.2.1\u001b[39m\n",
      " \u001b[90m [1fd47b50]\u001b[39m\u001b[92m + QuadGK v2.0.2\u001b[39m\n",
      " \u001b[90m [c84ed2f1]\u001b[39m\u001b[92m + Ratios v0.3.0\u001b[39m\n",
      " \u001b[90m [79098fc4]\u001b[39m\u001b[92m + Rmath v0.5.0\u001b[39m\n",
      " \u001b[90m [276daf66]\u001b[39m\u001b[92m + SpecialFunctions v0.7.1\u001b[39m\n",
      " \u001b[90m [60ddc479]\u001b[39m\u001b[92m + StatPlots v0.8.1\u001b[39m\n",
      " \u001b[90m [4c63d2b9]\u001b[39m\u001b[92m + StatsFuns v0.7.0\u001b[39m\n",
      " \u001b[90m [382cd787]\u001b[39m\u001b[92m + TableTraitsUtils v0.3.1\u001b[39m\n",
      " \u001b[90m [30578b45]\u001b[39m\u001b[92m + URIParser v0.4.0\u001b[39m\n",
      " \u001b[90m [cc8bc4a8]\u001b[39m\u001b[92m + Widgets v0.4.3\u001b[39m\n",
      " \u001b[90m [efce3f68]\u001b[39m\u001b[92m + WoodburyMatrices v0.4.1\u001b[39m\n",
      " \u001b[90m [4607b0f0]\u001b[39m\u001b[92m + SuiteSparse \u001b[39m\n",
      "\u001b[32m\u001b[1m  Building\u001b[22m\u001b[39m Rmath ───────────→ `~/.julia/packages/Rmath/Py9gH/deps/build.log`\n",
      "\u001b[32m\u001b[1m  Building\u001b[22m\u001b[39m FFTW ────────────→ `~/.julia/packages/FFTW/p7sLQ/deps/build.log`\n",
      "\u001b[32m\u001b[1m  Building\u001b[22m\u001b[39m SpecialFunctions → `~/.julia/packages/SpecialFunctions/sXbz6/deps/build.log`\n",
      "\u001b[32m\u001b[1m  Building\u001b[22m\u001b[39m Arpack ──────────→ `~/.julia/packages/Arpack/UiiMc/deps/build.log`\n"
     ]
    },
    {
     "name": "stderr",
     "output_type": "stream",
     "text": [
      "┌ Info: Precompiling DataFrames [a93c6f00-e57d-5684-b7b6-d8193f3e46c0]\n",
      "└ @ Base loading.jl:1189\n",
      "┌ Warning: Module Compat with build ID 6860655562079 is missing from the cache.\n",
      "│ This may mean Compat [34da2185-b29b-5c13-b0c7-acf172513d20] does not support precompilation but is imported by a module that does.\n",
      "└ @ Base loading.jl:944\n",
      "┌ Info: Precompiling CategoricalArrays [324d7699-5711-5eae-9e2f-1d82baa6b597]\n",
      "└ @ Base loading.jl:1189\n",
      "┌ Warning: Module Compat with build ID 6860655562079 is missing from the cache.\n",
      "│ This may mean Compat [34da2185-b29b-5c13-b0c7-acf172513d20] does not support precompilation but is imported by a module that does.\n",
      "└ @ Base loading.jl:944\n",
      "┌ Info: Precompiling DataStreams [9a8bc11e-79be-5b39-94d7-1ccc349a1a85]\n",
      "└ @ Base loading.jl:1189\n",
      "┌ Info: Precompiling CodecZlib [944b1d66-785c-5afd-91f1-9de20f533193]\n",
      "└ @ Base loading.jl:1189\n",
      "┌ Info: Precompiling Tables [bd369af6-aec1-5ad0-b16a-f7cc5008161c]\n",
      "└ @ Base loading.jl:1189\n",
      "┌ Info: Precompiling TableTraits [3783bdb8-4a98-5b6b-af9a-565f29a5fe9c]\n",
      "└ @ Base loading.jl:1189\n"
     ]
    },
    {
     "ename": "ArgumentError",
     "evalue": "ArgumentError: Package CSV not found in current path:\n- Run `import Pkg; Pkg.add(\"CSV\")` to install the CSV package.\n",
     "output_type": "error",
     "traceback": [
      "ArgumentError: Package CSV not found in current path:\n- Run `import Pkg; Pkg.add(\"CSV\")` to install the CSV package.\n",
      "",
      "Stacktrace:",
      " [1] require(::Module, ::Symbol) at ./loading.jl:820",
      " [2] top-level scope at In[7]:7"
     ]
    }
   ],
   "source": [
    "import Pkg\n",
    "\n",
    "Pkg.add(\"DataFrames\")\n",
    "\n",
    "Pkg.add(\"StatPlots\")\n",
    "using DataFrames\n",
    "using CSV\n",
    "using Statistics\n",
    "using Plots\n"
   ]
  },
  {
   "cell_type": "code",
   "execution_count": null,
   "metadata": {},
   "outputs": [],
   "source": []
  }
 ],
 "metadata": {
  "kernelspec": {
   "display_name": "Julia 1.0.1",
   "language": "julia",
   "name": "julia-1.0"
  },
  "language_info": {
   "file_extension": ".jl",
   "mimetype": "application/julia",
   "name": "julia",
   "version": "1.0.1"
  }
 },
 "nbformat": 4,
 "nbformat_minor": 2
}
